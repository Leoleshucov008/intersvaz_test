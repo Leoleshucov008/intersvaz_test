{
 "cells": [
  {
   "cell_type": "code",
   "execution_count": 211,
   "metadata": {
    "collapsed": false
   },
   "outputs": [],
   "source": [
    "import random\n",
    "import math\n",
    "class queen_solve:\n",
    "    desk_size = 8\n",
    "    cell_size = desk_size * desk_size\n",
    "    population = list()\n",
    "    population_count = 50\n",
    "    crossingover_p = 0.5\n",
    "    def row_col_fitness(self, count):\n",
    "        return math.factorial(count) if count > 0 else 24\n",
    "    \n",
    "    def diags_fitness(self, count):\n",
    "        return math.factorial(count)\n",
    "    \n",
    "    def fitness(self, cell):\n",
    "        res = 0\n",
    "        for i in range(self.desk_size):\n",
    "            res = res + self.row_col_fitness(sum(cell[i:self.cell_size:self.desk_size]))\n",
    "            res = res + self.row_col_fitness(sum(cell[i*self.desk_size:(i + 1)*self.desk_size]))\n",
    "        for i in range(-self.desk_size, self.desk_size):\n",
    "            res = res + self.diags_fitness(sum(self.get_main_diag(cell, i)))\n",
    "            res = res + self.diags_fitness(sum(self.get_sub_diag(cell, i)))\n",
    "        return abs(res - 48)\n",
    "\n",
    "    def get_main_diag(self, cell, diag_n):\n",
    "        '''get diag parallel to main'''\n",
    "        res = list()\n",
    "        if diag_n < 0:\n",
    "            for j in range(abs(diag_n), self.desk_size):\n",
    "                i = j + diag_n\n",
    "                res.append(cell[i * self.desk_size + j])\n",
    "        else:\n",
    "            for j in range(0, self.desk_size - diag_n):\n",
    "                i = j + diag_n\n",
    "                res.append(cell[i * self.desk_size + j])\n",
    "        return res\n",
    "    \n",
    "    def get_sub_diag(self, cell, diag_n):\n",
    "        '''get diag parallel to sub'''\n",
    "        res = list()\n",
    "        if diag_n < 0:\n",
    "            for j in range(0, self.desk_size + diag_n):\n",
    "                i = self.desk_size + diag_n - j - 1\n",
    "                res.append(cell[i * self.desk_size + j])\n",
    "        else:\n",
    "            for j in range(diag_n, self.desk_size):\n",
    "                i = self.desk_size + diag_n - j - 1\n",
    "                res.append(cell[i * self.desk_size + j])\n",
    "        return res\n",
    "        \n",
    "    def to_str(self, cell):\n",
    "        res = \"\"\n",
    "        for i in range(self.desk_size):\n",
    "            for j in range(self.desk_size):\n",
    "                res = res + (\"Q \" if cell[i * self.desk_size + j] == 1 else \"+ \")\n",
    "            res = res + '\\n'\n",
    "        return res\n",
    "    \n",
    "    def generate(self, p):\n",
    "        cell = list()\n",
    "        for i in range(self.cell_size):\n",
    "            cell.append(1 if random.uniform(0, 1) <= p else 0)\n",
    "        return cell\n",
    "        \n",
    "    def get_population_probs(self, population):\n",
    "        probs = list()\n",
    "        for cell in population:\n",
    "            probs.append(self.fitness(cell))\n",
    "        # normalize:\n",
    "        sum_p = sum(probs)\n",
    "        last_p = 0\n",
    "        for i in range(len(probs)):\n",
    "            probs[i] = last_p + probs[i] / sum_p\n",
    "            last_p = probs[i]\n",
    "        return probs\n",
    "        \n",
    "    def ring_select(self, probs, p):\n",
    "        for i in range(len(probs)):\n",
    "            if p < probs[i]:\n",
    "                return i\n",
    "        return len(probs) - 1\n",
    "        \n",
    "    def one_point_crossing(self, a, b):\n",
    "        k = random.randrange(len(a)) \n",
    "        return a[0:k] + b[k: len(a)]\n",
    "    \n",
    "    def crossing_step(self):\n",
    "        new_population = list()\n",
    "        probs = self.get_population_probs(population)\n",
    "        for i in range(population_count):\n",
    "            a = ring_select(probs, random.random())\n",
    "            b = ring_select(probs, random.random())\n",
    "            while a == b:\n",
    "                b = ring_select(probs, random.random())\n",
    "            new_population.append(self.one_point_crossing(self.population[a], self.population[b]))\n",
    "    \n",
    "    def reduction(self, population):\n",
    "        fitness = list()\n",
    "        for cell in population:\n",
    "            fitness.append(self.fitness(cell))\n",
    "        pairs = zip(fitness, population)\n",
    "        pairs.sort(key=lambda x: x[0], reverse=True)\n",
    "        return pairs[0: self.population_count]\n",
    "        \n",
    "            \n",
    "        "
   ]
  },
  {
   "cell_type": "code",
   "execution_count": 204,
   "metadata": {
    "collapsed": false
   },
   "outputs": [
    {
     "name": "stdout",
     "output_type": "stream",
     "text": [
      "+ + + + + + + + \n",
      "+ + + + + + + + \n",
      "+ + + + + + + + \n",
      "+ + + + + + + + \n",
      "+ + + + + + + + \n",
      "+ + + + + + + + \n",
      "+ + + + + + + + \n",
      "+ + + + + + + + \n",
      "\n",
      "368\n"
     ]
    }
   ],
   "source": [
    "# \n",
    "solver = queen_solve()\n",
    "cell = solver.generate(0)\n",
    "print(solver.to_str(cell))\n",
    "print(solver.fitness(cell))"
   ]
  },
  {
   "cell_type": "code",
   "execution_count": 206,
   "metadata": {
    "collapsed": false
   },
   "outputs": [
    {
     "name": "stdout",
     "output_type": "stream",
     "text": [
      "[0.1658682634730539, 0.2532934131736527, 0.33353293413173657, 0.4059880239520959, 0.5047904191616768, 0.6568862275449103, 0.6766467065868265, 0.787425149700599, 0.8862275449101797, 1.0] 9\n"
     ]
    }
   ],
   "source": [
    "# check ring select\n",
    "solver = queen_solve()\n",
    "population = list()\n",
    "for i in range(10):\n",
    "    population.append(solver.generate(0.1))\n",
    "    \n",
    "probs = solver.get_population_probs(population)\n",
    "print(probs, solver.ring_select(probs, 1))\n"
   ]
  },
  {
   "cell_type": "code",
   "execution_count": null,
   "metadata": {
    "collapsed": true
   },
   "outputs": [],
   "source": []
  },
  {
   "cell_type": "code",
   "execution_count": null,
   "metadata": {
    "collapsed": true
   },
   "outputs": [],
   "source": []
  },
  {
   "cell_type": "code",
   "execution_count": null,
   "metadata": {
    "collapsed": true
   },
   "outputs": [],
   "source": []
  }
 ],
 "metadata": {
  "anaconda-cloud": {},
  "kernelspec": {
   "display_name": "Python [conda root]",
   "language": "python",
   "name": "conda-root-py"
  },
  "language_info": {
   "codemirror_mode": {
    "name": "ipython",
    "version": 3
   },
   "file_extension": ".py",
   "mimetype": "text/x-python",
   "name": "python",
   "nbconvert_exporter": "python",
   "pygments_lexer": "ipython3",
   "version": "3.5.2"
  }
 },
 "nbformat": 4,
 "nbformat_minor": 1
}
