{
 "cells": [
  {
   "cell_type": "code",
   "execution_count": 1,
   "metadata": {
    "collapsed": false
   },
   "outputs": [],
   "source": [
    "import sys\n",
    "sys.path.append('./')\n",
    "from nqueens import Solver_8_queens"
   ]
  },
  {
   "cell_type": "code",
   "execution_count": null,
   "metadata": {
    "collapsed": false
   },
   "outputs": [],
   "source": [
    "# -*- coding: utf-8 -*-\n",
    "import random\n",
    "import math\n",
    "\n",
    "class Solver_8_queens:\n",
    "    desk_size = 8\n",
    "    point_size = 3 # num of row in binary\n",
    "    ppltn_indexes = list() # temp polulation\n",
    "    ppltn = list()      # current population\n",
    "    p_size = 0          # ppltn size\n",
    "    cross_p = 0.5       # corssingover probability\n",
    "    mutation_p = 0.05   # mutation probability\n",
    "    max_clashes =  28 \n",
    "    cross_pts_count = 2\n",
    "    selection = 'tournament' # 'ring' \n",
    "    def __init__(\n",
    "                self, pop_size=200, \n",
    "                cross_prob=0.7,\n",
    "                mut_prob=0.1,\n",
    "                selection='tournament',\n",
    "                cross_point_count = 1,\n",
    "                desk_size=8):\n",
    "        self.p_size = pop_size\n",
    "        self.cross_p = cross_prob\n",
    "        self.mutation_p = mut_prob\n",
    "        self.desk_size = desk_size\n",
    "        self.point_size = int(math.log2(desk_size))\n",
    "        self.max_clashes =  sum(range(desk_size))\n",
    "        if selection != 'tournament' and selection != 'ring':\n",
    "            raise BaseException('No valid selection type. Must be \"tournament\" or \"ring\"')\n",
    "        self.selection = selection\n",
    "        if cross_point_count < 1 or cross_point_count > self.point_size * self.desk_size:\n",
    "            raise BaseException('Cross points count is out of range')\n",
    "        self.cross_pts_count = cross_point_count\n",
    "        \n",
    "    def solve(self, min_fitness=0.9, max_epochs=100):\n",
    "        best_fit=None\n",
    "        epoch_num=None\n",
    "        visualization=None\n",
    "\n",
    "        self.generate_ppltn()\n",
    "\n",
    "        i = 0\n",
    "        while i < max_epochs and max(self.get_ppltn_fitness(self.ppltn)) < min_fitness:\n",
    "            self.step_one()\n",
    "            i = i + 1 \n",
    "        best_fit = max(self.get_ppltn_fitness(self.ppltn))\n",
    "        epoch_num = i\n",
    "        for cell in self.ppltn:\n",
    "            if self.fitness(cell) == best_fit:\n",
    "                visualization = self.to_str(cell)\n",
    "                break\n",
    "        return best_fit, epoch_num, visualization\n",
    "    \n",
    "    def cell_to_points(self, cell):\n",
    "        points = list()\n",
    "        for i in range(self.desk_size):\n",
    "            cell_part = cell[i * self.point_size:(i + 1) * self.point_size]\n",
    "            points.append((i, int(''.join(cell_part), 2)))\n",
    "        return points\n",
    "    \n",
    "    def is_clash(self, a, b):\n",
    "        return  a[0] == b[0] or a[1] == b[1] or abs((a[0]-b[0]) / (a[1]-b[1])) == 1\n",
    "\n",
    "    def all_clashes(self, points):\n",
    "        _sum = 0\n",
    "        for i in range(len(points)):\n",
    "            for j in range(i + 1, len(points)):\n",
    "                _sum = _sum + int(self.is_clash(points[i], points[j]))\n",
    "        return _sum\n",
    "    \n",
    "    def fitness(self, cell):\n",
    "        d = self.max_clashes - self.all_clashes(self.cell_to_points(cell))\n",
    "        return d / self.max_clashes\n",
    "   \n",
    "    def to_str(self, cell):\n",
    "        res = list(('+' * self.desk_size + '\\n') * self.desk_size)\n",
    "        for p in self.cell_to_points(cell):\n",
    "            res[p[0] * (self.desk_size + 1)+  p[1]] = 'Q'\n",
    "        return ''.join(res)\n",
    "    \n",
    "    def generate(self):\n",
    "        cell = list()\n",
    "        fmt_str = '{0:0' + str(self.point_size) + 'b}'\n",
    "        for i in range(self.desk_size):\n",
    "            b = list(fmt_str.format(random.randrange(self.desk_size)))\n",
    "            cell = cell + b\n",
    "        return cell\n",
    "        \n",
    "    def get_ppltn_fitness(self, ppltn):\n",
    "        fitness = list()\n",
    "        for cell in ppltn:\n",
    "            fitness.append(self.fitness(cell))\n",
    "        return fitness\n",
    "\n",
    "    def get_ppltn_probs(self, ppltn):\n",
    "        probs = self.get_ppltn_fitness(ppltn)\n",
    "        # normalize\n",
    "        sum_p = sum(probs)\n",
    "        last_p = 0\n",
    "        for i in range(len(probs)):\n",
    "            probs[i] = last_p + probs[i] / sum_p\n",
    "            last_p = probs[i]\n",
    "        return probs\n",
    "        \n",
    "    def ring_select(self, probs, p):\n",
    "        for i in range(len(probs)):\n",
    "            if p < probs[i]:\n",
    "                return i\n",
    "        return len(probs) - 1\n",
    "        \n",
    "    def mul_point_crossing(self, a, b):\n",
    "        size = self.desk_size * self.point_size\n",
    "        pts = [0] + random.sample(range(size), self.cross_pts_count) + [size]\n",
    "        pts.sort()\n",
    "        c1 = list()\n",
    "        c2 = list()\n",
    "        for i in range(self.cross_pts_count + 1):\n",
    "            old = list(c1)\n",
    "            c1 = c2 + a[pts[i]:pts[i+1]]\n",
    "            c2 = old + b[pts[i]:pts[i+1]]\n",
    "        return [c1, c2]\n",
    "    \n",
    "    def generate_ppltn(self):\n",
    "        '''generate start population'''\n",
    "        self.ppltn = list()\n",
    "        for i in range(self.p_size):\n",
    "            self.ppltn.append(self.generate())\n",
    "\n",
    "    def apply_mutation(self, cell):\n",
    "        try:\n",
    "            bit_count = random.randrange(int(len(cell) * self.mutation_p))\n",
    "            for k in random.sample(range(len(cell)), bit_count):\n",
    "                cell[k] = '1' if cell[k] == '0' else '0'\n",
    "        except:\n",
    "            pass\n",
    "        return cell\n",
    "    \n",
    "    def ring_selection_step(self):\n",
    "        self.ppltn_indexes = list()        \n",
    "        probs = self.get_ppltn_probs(self.ppltn);\n",
    "        for i in range(int(self.p_size * self.cross_p)):\n",
    "            a = self.ring_select(probs, random.random())\n",
    "            self.ppltn_indexes.append(a)\n",
    "            \n",
    "    def tournament_selection_step(self):\n",
    "        self.ppltn_indexes = list()\n",
    "        indexes = list(range(len(self.ppltn)))\n",
    "        random.shuffle(indexes)\n",
    "        mid = int(len(self.ppltn) / 2)\n",
    "        g1 = indexes[0:mid]\n",
    "        g2 = indexes[mid : len(self.ppltn)]  \n",
    "        # don't care about odd ppltn_size\n",
    "        for i in range(len(g1)):\n",
    "            if (self.fitness(self.ppltn[g1[i]]) > self.fitness(self.ppltn[g2[i]])):\n",
    "                self.ppltn_indexes.append(g1[i])\n",
    "            else: \n",
    "                self.ppltn_indexes.append(g2[i])      \n",
    "    \n",
    "    def selection_step(self):\n",
    "        if self.selection == 'tournament':\n",
    "            self.tournament_selection_step()\n",
    "        elif self.selection == 'ring':\n",
    "            self.ring_selection_step()    \n",
    "    \n",
    "    def crossing_step(self):\n",
    "        new_ppltn = list()   \n",
    "        for i in range(self.p_size):\n",
    "            a = random.randrange(len(self.ppltn_indexes))\n",
    "            a = self.ppltn_indexes[a]\n",
    "            b = random.randrange(len(self.ppltn_indexes))\n",
    "            b = self.ppltn_indexes[b]\n",
    "            while a == b:\n",
    "                b = random.randrange(len(self.ppltn_indexes))\n",
    "                b = self.ppltn_indexes[b]            \n",
    "            new_ppltn = new_ppltn + self.mul_point_crossing(self.ppltn[a], self.ppltn[b])\n",
    "        self.ppltn = new_ppltn\n",
    "\n",
    "    def mutation_step(self):\n",
    "        mutation_ppltn = list()\n",
    "        for cell in self.ppltn:\n",
    "            cell = self.apply_mutation(cell)\n",
    "            mutation_ppltn.append(cell)\n",
    "        self.ppltn = mutation_ppltn\n",
    "\n",
    "    def step_one(self):\n",
    "        self.selection_step()\n",
    "        self.crossing_step()\n",
    "        self.mutation_step()"
   ]
  },
  {
   "cell_type": "code",
   "execution_count": 3,
   "metadata": {
    "collapsed": false
   },
   "outputs": [
    {
     "name": "stdout",
     "output_type": "stream",
     "text": [
      "Best fitness:  1.0\n",
      "Epoch:  51\n",
      "+++++Q++\n",
      "++Q+++++\n",
      "++++++Q+\n",
      "+Q++++++\n",
      "+++++++Q\n",
      "++++Q+++\n",
      "Q+++++++\n",
      "+++Q++++\n",
      "\n"
     ]
    }
   ],
   "source": [
    "solver = Solver_8_queens(200, 0.5, 0.1)\n",
    "best_fit, epoch, visualization = solver.solve(1, 1000)\n",
    "print ('Best fitness: ', best_fit)\n",
    "print ('Epoch: ', epoch)\n",
    "print (visualization)"
   ]
  },
  {
   "cell_type": "code",
   "execution_count": null,
   "metadata": {
    "collapsed": true
   },
   "outputs": [],
   "source": [
    "import "
   ]
  },
  {
   "cell_type": "code",
   "execution_count": 54,
   "metadata": {
    "collapsed": false
   },
   "outputs": [],
   "source": [
    "import numpy as np\n",
    "import matplotlib.pyplot as plt\n",
    "\n",
    "iter_count1 = list() #one point\n",
    "iter_count2 = list() #two point\n",
    "iter_count3 = list() #three point\n",
    "max_epoch = 100\n",
    "for i in range(500):\n",
    "    seed = random.randrange(1000000)\n",
    "    random.seed(seed)\n",
    "    solver = Solver_8_queens(200, 0.5, 0.1, cross_point_count=1)\n",
    "    best_fit, epoch, visual = solver.solve(1, 200)\n",
    "    iter_count1.append(epoch)\n",
    "    random.seed(seed)\n",
    "    solver = Solver_8_queens(200, 0.5, 0.1, cross_point_count=2)\n",
    "    best_fit, epoch, visual = solver.solve(1, 200)\n",
    "    iter_count2.append(epoch)\n",
    "    random.seed(seed)\n",
    "    solver = Solver_8_queens(200, 0.5, 0.1, cross_point_count=3)\n",
    "    best_fit, epoch, visual = solver.solve(1, 200)\n",
    "    iter_count3.append(epoch)"
   ]
  },
  {
   "cell_type": "code",
   "execution_count": null,
   "metadata": {
    "collapsed": false
   },
   "outputs": [],
   "source": [
    "import numpy as np\n",
    "import matplotlib.pyplot as plt\n",
    "\n",
    "p_size = np.linspace(50, 1000, 20)\n",
    "cross_p = np.linspace(0.05, 1, 20)\n",
    "iter_count = np.ndarray(shape=(p_size.shape[0], cross_p.shape[0]), dtype=np.float32)\n",
    "max_epoch = 100\n",
    "for i in range(p_size.shape[0]):\n",
    "    for j in range(cross_p.shape[0]):\n",
    "        seed = random.randrange(1000000):\n",
    "        random.seed(seed)\n",
    "        solver = Solver_8_queens(int(p_size[i]), cross_p[j], 0.1)\n",
    "        best_fit, epoch, visual = solver.solve(1, max_epoch)\n",
    "        iter_count[i][j] = epoch"
   ]
  },
  {
   "cell_type": "code",
   "execution_count": 72,
   "metadata": {
    "collapsed": false
   },
   "outputs": [
    {
     "name": "stdout",
     "output_type": "stream",
     "text": [
      "17 32 32\n"
     ]
    },
    {
     "data": {
      "text/plain": [
       "<seaborn.axisgrid.PairGrid at 0x7fc0ac4b0588>"
      ]
     },
     "execution_count": 72,
     "metadata": {},
     "output_type": "execute_result"
    },
    {
     "data": {
      "image/png": "[encoded data removed]",
      "text/plain": [
       "<matplotlib.figure.Figure at 0x7fc0ac4b6630>"
      ]
     },
     "metadata": {},
     "output_type": "display_data"
    }
   ],
   "source": [
    "import pandas as pd\n",
    "import seaborn as sbn\n",
    "%matplotlib inline\n",
    "frame = pd.DataFrame()\n",
    "frame['One'] = iter_count1\n",
    "frame['Two'] = iter_count2\n",
    "frame['Three'] = iter_count2\n",
    "print(\n",
    "    sum(frame.One > 100),\n",
    "    sum(frame.Two > 100),\n",
    "    sum(frame.Three > 100))\n",
    "sbn.pairplot(frame)"
   ]
  },
  {
   "cell_type": "code",
   "execution_count": null,
   "metadata": {
    "collapsed": false
   },
   "outputs": [],
   "source": [
    "from mpl_toolkits.mplot3d import Axes3D\n",
    "fig = plt.figure()\n",
    "ax = fig.gca(projection='3d') # get current axis\n",
    "# Наконец, используем метод *plot_surface* объекта \n",
    "# типа Axes3DSubplot. Также подписываем оси.\n",
    "p_size, cross_p = np\n",
    "surf = ax.plot_surface(p_size, cross_p, iter_count)\n",
    "ax.set_xlabel('Population size')\n",
    "ax.set_ylabel('Corss prob')\n",
    "ax.set_zlabel('iteration count')\n",
    "plt.show()"
   ]
  },
  {
   "cell_type": "code",
   "execution_count": null,
   "metadata": {
    "collapsed": true
   },
   "outputs": [],
   "source": [
    "iter_count.tofile('iter_count01.bin')"
   ]
  },
  {
   "cell_type": "code",
   "execution_count": null,
   "metadata": {
    "collapsed": true
   },
   "outputs": [],
   "source": [
    "b = np.fromfile('iter_count.bin')"
   ]
  },
  {
   "cell_type": "code",
   "execution_count": null,
   "metadata": {
    "collapsed": false,
    "scrolled": true
   },
   "outputs": [],
   "source": [
    "import numpy as np\n",
    "import matplotlib.pyplot as plt\n",
    "import pandas as pd\n",
    "import seaborn as sbs\n",
    "%matplotlib inline\n",
    "p_size = np.linspace(50, 1000, 20)\n",
    "cross_p = np.linspace(0.05, 1, 20)\n",
    "X, Y = np.meshgrid(p_size, cross_p)\n",
    "iter_count = np.fromfile('iter_count.bin', dtype=np.float32)\n",
    "iter_count1 = np.fromfile('iter_count01.bin', dtype=np.float32)\n",
    "Z = np.reshape(iter_count1, newshape=X.shape)\n",
    "frame = pd.DataFrame()\n",
    "frame['Population'] = np.reshape(X, 400)\n",
    "frame['Cross'] = np.reshape(Y, 400)\n",
    "frame['Iteration'] = np.reshape(Z, 400)\n",
    "sbs.pairplot(frame)"
   ]
  },
  {
   "cell_type": "markdown",
   "metadata": {
    "collapsed": true
   },
   "source": [
    "## "
   ]
  }
 ],
 "metadata": {
  "anaconda-cloud": {},
  "kernelspec": {
   "display_name": "Python [conda root]",
   "language": "python",
   "name": "conda-root-py"
  },
  "language_info": {
   "codemirror_mode": {
    "name": "ipython",
    "version": 3
   },
   "file_extension": ".py",
   "mimetype": "text/x-python",
   "name": "python",
   "nbconvert_exporter": "python",
   "pygments_lexer": "ipython3",
   "version": "3.5.2"
  }
 },
 "nbformat": 4,
 "nbformat_minor": 1
}
